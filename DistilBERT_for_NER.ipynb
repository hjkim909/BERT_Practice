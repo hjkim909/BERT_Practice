{
  "nbformat": 4,
  "nbformat_minor": 0,
  "metadata": {
    "colab": {
      "name": "DistilBERT for NER.ipynb",
      "provenance": [],
      "authorship_tag": "ABX9TyO7bJ7A21Kw8+Np6kSP1N4G",
      "include_colab_link": true
    },
    "kernelspec": {
      "name": "python3",
      "display_name": "Python 3"
    },
    "accelerator": "GPU",
    "widgets": {
      "application/vnd.jupyter.widget-state+json": {
        "bf93b2c720534f36a9d9d1b93b5758d6": {
          "model_module": "@jupyter-widgets/controls",
          "model_name": "HBoxModel",
          "state": {
            "_view_name": "HBoxView",
            "_dom_classes": [],
            "_model_name": "HBoxModel",
            "_view_module": "@jupyter-widgets/controls",
            "_model_module_version": "1.5.0",
            "_view_count": null,
            "_view_module_version": "1.5.0",
            "box_style": "",
            "layout": "IPY_MODEL_975805526a7b4772a81bac83c5fee9ff",
            "_model_module": "@jupyter-widgets/controls",
            "children": [
              "IPY_MODEL_c9d7fd1f68eb4f92ba42fcc6236d11bb",
              "IPY_MODEL_cbf1d56ed8314cca904888e70c823aa7"
            ]
          }
        },
        "975805526a7b4772a81bac83c5fee9ff": {
          "model_module": "@jupyter-widgets/base",
          "model_name": "LayoutModel",
          "state": {
            "_view_name": "LayoutView",
            "grid_template_rows": null,
            "right": null,
            "justify_content": null,
            "_view_module": "@jupyter-widgets/base",
            "overflow": null,
            "_model_module_version": "1.2.0",
            "_view_count": null,
            "flex_flow": null,
            "width": null,
            "min_width": null,
            "border": null,
            "align_items": null,
            "bottom": null,
            "_model_module": "@jupyter-widgets/base",
            "top": null,
            "grid_column": null,
            "overflow_y": null,
            "overflow_x": null,
            "grid_auto_flow": null,
            "grid_area": null,
            "grid_template_columns": null,
            "flex": null,
            "_model_name": "LayoutModel",
            "justify_items": null,
            "grid_row": null,
            "max_height": null,
            "align_content": null,
            "visibility": null,
            "align_self": null,
            "height": null,
            "min_height": null,
            "padding": null,
            "grid_auto_rows": null,
            "grid_gap": null,
            "max_width": null,
            "order": null,
            "_view_module_version": "1.2.0",
            "grid_template_areas": null,
            "object_position": null,
            "object_fit": null,
            "grid_auto_columns": null,
            "margin": null,
            "display": null,
            "left": null
          }
        },
        "c9d7fd1f68eb4f92ba42fcc6236d11bb": {
          "model_module": "@jupyter-widgets/controls",
          "model_name": "FloatProgressModel",
          "state": {
            "_view_name": "ProgressView",
            "style": "IPY_MODEL_22ad768865714d59ae38204826e52bc9",
            "_dom_classes": [],
            "description": "Downloading: 100%",
            "_model_name": "FloatProgressModel",
            "bar_style": "success",
            "max": 213450,
            "_view_module": "@jupyter-widgets/controls",
            "_model_module_version": "1.5.0",
            "value": 213450,
            "_view_count": null,
            "_view_module_version": "1.5.0",
            "orientation": "horizontal",
            "min": 0,
            "description_tooltip": null,
            "_model_module": "@jupyter-widgets/controls",
            "layout": "IPY_MODEL_8c276d7d9880476e9e5d6484a6ccc7ef"
          }
        },
        "cbf1d56ed8314cca904888e70c823aa7": {
          "model_module": "@jupyter-widgets/controls",
          "model_name": "HTMLModel",
          "state": {
            "_view_name": "HTMLView",
            "style": "IPY_MODEL_24033bdd7cb24301a8e11e5141f47e37",
            "_dom_classes": [],
            "description": "",
            "_model_name": "HTMLModel",
            "placeholder": "​",
            "_view_module": "@jupyter-widgets/controls",
            "_model_module_version": "1.5.0",
            "value": " 213k/213k [00:00&lt;00:00, 382kB/s]",
            "_view_count": null,
            "_view_module_version": "1.5.0",
            "description_tooltip": null,
            "_model_module": "@jupyter-widgets/controls",
            "layout": "IPY_MODEL_a943496a2b97416fba10679ed5770373"
          }
        },
        "22ad768865714d59ae38204826e52bc9": {
          "model_module": "@jupyter-widgets/controls",
          "model_name": "ProgressStyleModel",
          "state": {
            "_view_name": "StyleView",
            "_model_name": "ProgressStyleModel",
            "description_width": "initial",
            "_view_module": "@jupyter-widgets/base",
            "_model_module_version": "1.5.0",
            "_view_count": null,
            "_view_module_version": "1.2.0",
            "bar_color": null,
            "_model_module": "@jupyter-widgets/controls"
          }
        },
        "8c276d7d9880476e9e5d6484a6ccc7ef": {
          "model_module": "@jupyter-widgets/base",
          "model_name": "LayoutModel",
          "state": {
            "_view_name": "LayoutView",
            "grid_template_rows": null,
            "right": null,
            "justify_content": null,
            "_view_module": "@jupyter-widgets/base",
            "overflow": null,
            "_model_module_version": "1.2.0",
            "_view_count": null,
            "flex_flow": null,
            "width": null,
            "min_width": null,
            "border": null,
            "align_items": null,
            "bottom": null,
            "_model_module": "@jupyter-widgets/base",
            "top": null,
            "grid_column": null,
            "overflow_y": null,
            "overflow_x": null,
            "grid_auto_flow": null,
            "grid_area": null,
            "grid_template_columns": null,
            "flex": null,
            "_model_name": "LayoutModel",
            "justify_items": null,
            "grid_row": null,
            "max_height": null,
            "align_content": null,
            "visibility": null,
            "align_self": null,
            "height": null,
            "min_height": null,
            "padding": null,
            "grid_auto_rows": null,
            "grid_gap": null,
            "max_width": null,
            "order": null,
            "_view_module_version": "1.2.0",
            "grid_template_areas": null,
            "object_position": null,
            "object_fit": null,
            "grid_auto_columns": null,
            "margin": null,
            "display": null,
            "left": null
          }
        },
        "24033bdd7cb24301a8e11e5141f47e37": {
          "model_module": "@jupyter-widgets/controls",
          "model_name": "DescriptionStyleModel",
          "state": {
            "_view_name": "StyleView",
            "_model_name": "DescriptionStyleModel",
            "description_width": "",
            "_view_module": "@jupyter-widgets/base",
            "_model_module_version": "1.5.0",
            "_view_count": null,
            "_view_module_version": "1.2.0",
            "_model_module": "@jupyter-widgets/controls"
          }
        },
        "a943496a2b97416fba10679ed5770373": {
          "model_module": "@jupyter-widgets/base",
          "model_name": "LayoutModel",
          "state": {
            "_view_name": "LayoutView",
            "grid_template_rows": null,
            "right": null,
            "justify_content": null,
            "_view_module": "@jupyter-widgets/base",
            "overflow": null,
            "_model_module_version": "1.2.0",
            "_view_count": null,
            "flex_flow": null,
            "width": null,
            "min_width": null,
            "border": null,
            "align_items": null,
            "bottom": null,
            "_model_module": "@jupyter-widgets/base",
            "top": null,
            "grid_column": null,
            "overflow_y": null,
            "overflow_x": null,
            "grid_auto_flow": null,
            "grid_area": null,
            "grid_template_columns": null,
            "flex": null,
            "_model_name": "LayoutModel",
            "justify_items": null,
            "grid_row": null,
            "max_height": null,
            "align_content": null,
            "visibility": null,
            "align_self": null,
            "height": null,
            "min_height": null,
            "padding": null,
            "grid_auto_rows": null,
            "grid_gap": null,
            "max_width": null,
            "order": null,
            "_view_module_version": "1.2.0",
            "grid_template_areas": null,
            "object_position": null,
            "object_fit": null,
            "grid_auto_columns": null,
            "margin": null,
            "display": null,
            "left": null
          }
        },
        "62ba46dafc2b4f7997d57df577a57e98": {
          "model_module": "@jupyter-widgets/controls",
          "model_name": "HBoxModel",
          "state": {
            "_view_name": "HBoxView",
            "_dom_classes": [],
            "_model_name": "HBoxModel",
            "_view_module": "@jupyter-widgets/controls",
            "_model_module_version": "1.5.0",
            "_view_count": null,
            "_view_module_version": "1.5.0",
            "box_style": "",
            "layout": "IPY_MODEL_2677d18513464608888d87108cda00f7",
            "_model_module": "@jupyter-widgets/controls",
            "children": [
              "IPY_MODEL_9d6ffcf3e4c8427abeef4ff9794072df",
              "IPY_MODEL_f46197c3e009418683a97062441d1b52"
            ]
          }
        },
        "2677d18513464608888d87108cda00f7": {
          "model_module": "@jupyter-widgets/base",
          "model_name": "LayoutModel",
          "state": {
            "_view_name": "LayoutView",
            "grid_template_rows": null,
            "right": null,
            "justify_content": null,
            "_view_module": "@jupyter-widgets/base",
            "overflow": null,
            "_model_module_version": "1.2.0",
            "_view_count": null,
            "flex_flow": null,
            "width": null,
            "min_width": null,
            "border": null,
            "align_items": null,
            "bottom": null,
            "_model_module": "@jupyter-widgets/base",
            "top": null,
            "grid_column": null,
            "overflow_y": null,
            "overflow_x": null,
            "grid_auto_flow": null,
            "grid_area": null,
            "grid_template_columns": null,
            "flex": null,
            "_model_name": "LayoutModel",
            "justify_items": null,
            "grid_row": null,
            "max_height": null,
            "align_content": null,
            "visibility": null,
            "align_self": null,
            "height": null,
            "min_height": null,
            "padding": null,
            "grid_auto_rows": null,
            "grid_gap": null,
            "max_width": null,
            "order": null,
            "_view_module_version": "1.2.0",
            "grid_template_areas": null,
            "object_position": null,
            "object_fit": null,
            "grid_auto_columns": null,
            "margin": null,
            "display": null,
            "left": null
          }
        },
        "9d6ffcf3e4c8427abeef4ff9794072df": {
          "model_module": "@jupyter-widgets/controls",
          "model_name": "FloatProgressModel",
          "state": {
            "_view_name": "ProgressView",
            "style": "IPY_MODEL_c9b0c618fd0a459d9b1edf4a173b7ba2",
            "_dom_classes": [],
            "description": "Downloading: 100%",
            "_model_name": "FloatProgressModel",
            "bar_style": "success",
            "max": 411,
            "_view_module": "@jupyter-widgets/controls",
            "_model_module_version": "1.5.0",
            "value": 411,
            "_view_count": null,
            "_view_module_version": "1.5.0",
            "orientation": "horizontal",
            "min": 0,
            "description_tooltip": null,
            "_model_module": "@jupyter-widgets/controls",
            "layout": "IPY_MODEL_c9d2f19cc4a14f908dc680b69896f1da"
          }
        },
        "f46197c3e009418683a97062441d1b52": {
          "model_module": "@jupyter-widgets/controls",
          "model_name": "HTMLModel",
          "state": {
            "_view_name": "HTMLView",
            "style": "IPY_MODEL_bbef21f9fda34ad38821e720e35eeb24",
            "_dom_classes": [],
            "description": "",
            "_model_name": "HTMLModel",
            "placeholder": "​",
            "_view_module": "@jupyter-widgets/controls",
            "_model_module_version": "1.5.0",
            "value": " 411/411 [00:00&lt;00:00, 2.13kB/s]",
            "_view_count": null,
            "_view_module_version": "1.5.0",
            "description_tooltip": null,
            "_model_module": "@jupyter-widgets/controls",
            "layout": "IPY_MODEL_74f29a6c8b4e4a5a86086c021c652471"
          }
        },
        "c9b0c618fd0a459d9b1edf4a173b7ba2": {
          "model_module": "@jupyter-widgets/controls",
          "model_name": "ProgressStyleModel",
          "state": {
            "_view_name": "StyleView",
            "_model_name": "ProgressStyleModel",
            "description_width": "initial",
            "_view_module": "@jupyter-widgets/base",
            "_model_module_version": "1.5.0",
            "_view_count": null,
            "_view_module_version": "1.2.0",
            "bar_color": null,
            "_model_module": "@jupyter-widgets/controls"
          }
        },
        "c9d2f19cc4a14f908dc680b69896f1da": {
          "model_module": "@jupyter-widgets/base",
          "model_name": "LayoutModel",
          "state": {
            "_view_name": "LayoutView",
            "grid_template_rows": null,
            "right": null,
            "justify_content": null,
            "_view_module": "@jupyter-widgets/base",
            "overflow": null,
            "_model_module_version": "1.2.0",
            "_view_count": null,
            "flex_flow": null,
            "width": null,
            "min_width": null,
            "border": null,
            "align_items": null,
            "bottom": null,
            "_model_module": "@jupyter-widgets/base",
            "top": null,
            "grid_column": null,
            "overflow_y": null,
            "overflow_x": null,
            "grid_auto_flow": null,
            "grid_area": null,
            "grid_template_columns": null,
            "flex": null,
            "_model_name": "LayoutModel",
            "justify_items": null,
            "grid_row": null,
            "max_height": null,
            "align_content": null,
            "visibility": null,
            "align_self": null,
            "height": null,
            "min_height": null,
            "padding": null,
            "grid_auto_rows": null,
            "grid_gap": null,
            "max_width": null,
            "order": null,
            "_view_module_version": "1.2.0",
            "grid_template_areas": null,
            "object_position": null,
            "object_fit": null,
            "grid_auto_columns": null,
            "margin": null,
            "display": null,
            "left": null
          }
        },
        "bbef21f9fda34ad38821e720e35eeb24": {
          "model_module": "@jupyter-widgets/controls",
          "model_name": "DescriptionStyleModel",
          "state": {
            "_view_name": "StyleView",
            "_model_name": "DescriptionStyleModel",
            "description_width": "",
            "_view_module": "@jupyter-widgets/base",
            "_model_module_version": "1.5.0",
            "_view_count": null,
            "_view_module_version": "1.2.0",
            "_model_module": "@jupyter-widgets/controls"
          }
        },
        "74f29a6c8b4e4a5a86086c021c652471": {
          "model_module": "@jupyter-widgets/base",
          "model_name": "LayoutModel",
          "state": {
            "_view_name": "LayoutView",
            "grid_template_rows": null,
            "right": null,
            "justify_content": null,
            "_view_module": "@jupyter-widgets/base",
            "overflow": null,
            "_model_module_version": "1.2.0",
            "_view_count": null,
            "flex_flow": null,
            "width": null,
            "min_width": null,
            "border": null,
            "align_items": null,
            "bottom": null,
            "_model_module": "@jupyter-widgets/base",
            "top": null,
            "grid_column": null,
            "overflow_y": null,
            "overflow_x": null,
            "grid_auto_flow": null,
            "grid_area": null,
            "grid_template_columns": null,
            "flex": null,
            "_model_name": "LayoutModel",
            "justify_items": null,
            "grid_row": null,
            "max_height": null,
            "align_content": null,
            "visibility": null,
            "align_self": null,
            "height": null,
            "min_height": null,
            "padding": null,
            "grid_auto_rows": null,
            "grid_gap": null,
            "max_width": null,
            "order": null,
            "_view_module_version": "1.2.0",
            "grid_template_areas": null,
            "object_position": null,
            "object_fit": null,
            "grid_auto_columns": null,
            "margin": null,
            "display": null,
            "left": null
          }
        },
        "9a293b06e1d74fa6b1cdc468cd6c8321": {
          "model_module": "@jupyter-widgets/controls",
          "model_name": "HBoxModel",
          "state": {
            "_view_name": "HBoxView",
            "_dom_classes": [],
            "_model_name": "HBoxModel",
            "_view_module": "@jupyter-widgets/controls",
            "_model_module_version": "1.5.0",
            "_view_count": null,
            "_view_module_version": "1.5.0",
            "box_style": "",
            "layout": "IPY_MODEL_5d29d278951e4c479d527ade49fa5786",
            "_model_module": "@jupyter-widgets/controls",
            "children": [
              "IPY_MODEL_531965b9bb844f18a051be0c23060a98",
              "IPY_MODEL_6e4f97ad314e429690e210d6104ead8e"
            ]
          }
        },
        "5d29d278951e4c479d527ade49fa5786": {
          "model_module": "@jupyter-widgets/base",
          "model_name": "LayoutModel",
          "state": {
            "_view_name": "LayoutView",
            "grid_template_rows": null,
            "right": null,
            "justify_content": null,
            "_view_module": "@jupyter-widgets/base",
            "overflow": null,
            "_model_module_version": "1.2.0",
            "_view_count": null,
            "flex_flow": null,
            "width": null,
            "min_width": null,
            "border": null,
            "align_items": null,
            "bottom": null,
            "_model_module": "@jupyter-widgets/base",
            "top": null,
            "grid_column": null,
            "overflow_y": null,
            "overflow_x": null,
            "grid_auto_flow": null,
            "grid_area": null,
            "grid_template_columns": null,
            "flex": null,
            "_model_name": "LayoutModel",
            "justify_items": null,
            "grid_row": null,
            "max_height": null,
            "align_content": null,
            "visibility": null,
            "align_self": null,
            "height": null,
            "min_height": null,
            "padding": null,
            "grid_auto_rows": null,
            "grid_gap": null,
            "max_width": null,
            "order": null,
            "_view_module_version": "1.2.0",
            "grid_template_areas": null,
            "object_position": null,
            "object_fit": null,
            "grid_auto_columns": null,
            "margin": null,
            "display": null,
            "left": null
          }
        },
        "531965b9bb844f18a051be0c23060a98": {
          "model_module": "@jupyter-widgets/controls",
          "model_name": "FloatProgressModel",
          "state": {
            "_view_name": "ProgressView",
            "style": "IPY_MODEL_c3aa3756f43f4d44894e4080232ccfac",
            "_dom_classes": [],
            "description": "Downloading: 100%",
            "_model_name": "FloatProgressModel",
            "bar_style": "success",
            "max": 263273408,
            "_view_module": "@jupyter-widgets/controls",
            "_model_module_version": "1.5.0",
            "value": 263273408,
            "_view_count": null,
            "_view_module_version": "1.5.0",
            "orientation": "horizontal",
            "min": 0,
            "description_tooltip": null,
            "_model_module": "@jupyter-widgets/controls",
            "layout": "IPY_MODEL_09304720b6d14608ac1b641b24b4fa8a"
          }
        },
        "6e4f97ad314e429690e210d6104ead8e": {
          "model_module": "@jupyter-widgets/controls",
          "model_name": "HTMLModel",
          "state": {
            "_view_name": "HTMLView",
            "style": "IPY_MODEL_004ae25466ec4a37b9d24d29e998a563",
            "_dom_classes": [],
            "description": "",
            "_model_name": "HTMLModel",
            "placeholder": "​",
            "_view_module": "@jupyter-widgets/controls",
            "_model_module_version": "1.5.0",
            "value": " 263M/263M [00:05&lt;00:00, 44.7MB/s]",
            "_view_count": null,
            "_view_module_version": "1.5.0",
            "description_tooltip": null,
            "_model_module": "@jupyter-widgets/controls",
            "layout": "IPY_MODEL_5db54ee8ac0149398ce7aeee1ea536ac"
          }
        },
        "c3aa3756f43f4d44894e4080232ccfac": {
          "model_module": "@jupyter-widgets/controls",
          "model_name": "ProgressStyleModel",
          "state": {
            "_view_name": "StyleView",
            "_model_name": "ProgressStyleModel",
            "description_width": "initial",
            "_view_module": "@jupyter-widgets/base",
            "_model_module_version": "1.5.0",
            "_view_count": null,
            "_view_module_version": "1.2.0",
            "bar_color": null,
            "_model_module": "@jupyter-widgets/controls"
          }
        },
        "09304720b6d14608ac1b641b24b4fa8a": {
          "model_module": "@jupyter-widgets/base",
          "model_name": "LayoutModel",
          "state": {
            "_view_name": "LayoutView",
            "grid_template_rows": null,
            "right": null,
            "justify_content": null,
            "_view_module": "@jupyter-widgets/base",
            "overflow": null,
            "_model_module_version": "1.2.0",
            "_view_count": null,
            "flex_flow": null,
            "width": null,
            "min_width": null,
            "border": null,
            "align_items": null,
            "bottom": null,
            "_model_module": "@jupyter-widgets/base",
            "top": null,
            "grid_column": null,
            "overflow_y": null,
            "overflow_x": null,
            "grid_auto_flow": null,
            "grid_area": null,
            "grid_template_columns": null,
            "flex": null,
            "_model_name": "LayoutModel",
            "justify_items": null,
            "grid_row": null,
            "max_height": null,
            "align_content": null,
            "visibility": null,
            "align_self": null,
            "height": null,
            "min_height": null,
            "padding": null,
            "grid_auto_rows": null,
            "grid_gap": null,
            "max_width": null,
            "order": null,
            "_view_module_version": "1.2.0",
            "grid_template_areas": null,
            "object_position": null,
            "object_fit": null,
            "grid_auto_columns": null,
            "margin": null,
            "display": null,
            "left": null
          }
        },
        "004ae25466ec4a37b9d24d29e998a563": {
          "model_module": "@jupyter-widgets/controls",
          "model_name": "DescriptionStyleModel",
          "state": {
            "_view_name": "StyleView",
            "_model_name": "DescriptionStyleModel",
            "description_width": "",
            "_view_module": "@jupyter-widgets/base",
            "_model_module_version": "1.5.0",
            "_view_count": null,
            "_view_module_version": "1.2.0",
            "_model_module": "@jupyter-widgets/controls"
          }
        },
        "5db54ee8ac0149398ce7aeee1ea536ac": {
          "model_module": "@jupyter-widgets/base",
          "model_name": "LayoutModel",
          "state": {
            "_view_name": "LayoutView",
            "grid_template_rows": null,
            "right": null,
            "justify_content": null,
            "_view_module": "@jupyter-widgets/base",
            "overflow": null,
            "_model_module_version": "1.2.0",
            "_view_count": null,
            "flex_flow": null,
            "width": null,
            "min_width": null,
            "border": null,
            "align_items": null,
            "bottom": null,
            "_model_module": "@jupyter-widgets/base",
            "top": null,
            "grid_column": null,
            "overflow_y": null,
            "overflow_x": null,
            "grid_auto_flow": null,
            "grid_area": null,
            "grid_template_columns": null,
            "flex": null,
            "_model_name": "LayoutModel",
            "justify_items": null,
            "grid_row": null,
            "max_height": null,
            "align_content": null,
            "visibility": null,
            "align_self": null,
            "height": null,
            "min_height": null,
            "padding": null,
            "grid_auto_rows": null,
            "grid_gap": null,
            "max_width": null,
            "order": null,
            "_view_module_version": "1.2.0",
            "grid_template_areas": null,
            "object_position": null,
            "object_fit": null,
            "grid_auto_columns": null,
            "margin": null,
            "display": null,
            "left": null
          }
        }
      }
    }
  },
  "cells": [
    {
      "cell_type": "markdown",
      "metadata": {
        "id": "view-in-github",
        "colab_type": "text"
      },
      "source": [
        "<a href=\"https://colab.research.google.com/github/hjkim909/BERT_Practice/blob/master/DistilBERT_for_NER.ipynb\" target=\"_parent\"><img src=\"https://colab.research.google.com/assets/colab-badge.svg\" alt=\"Open In Colab\"/></a>"
      ]
    },
    {
      "cell_type": "code",
      "metadata": {
        "id": "MLitlFu0vXBM",
        "outputId": "e29de327-14b1-4a7b-9df3-3d06055a2130",
        "colab": {
          "base_uri": "https://localhost:8080/",
          "height": 635
        }
      },
      "source": [
        "!pip install transformers\n",
        "import torch"
      ],
      "execution_count": null,
      "outputs": [
        {
          "output_type": "stream",
          "text": [
            "Collecting transformers\n",
            "\u001b[?25l  Downloading https://files.pythonhosted.org/packages/19/22/aff234f4a841f8999e68a7a94bdd4b60b4cebcfeca5d67d61cd08c9179de/transformers-3.3.1-py3-none-any.whl (1.1MB)\n",
            "\r\u001b[K     |▎                               | 10kB 20.3MB/s eta 0:00:01\r\u001b[K     |▋                               | 20kB 4.2MB/s eta 0:00:01\r\u001b[K     |█                               | 30kB 5.8MB/s eta 0:00:01\r\u001b[K     |█▎                              | 40kB 6.6MB/s eta 0:00:01\r\u001b[K     |█▌                              | 51kB 5.1MB/s eta 0:00:01\r\u001b[K     |█▉                              | 61kB 5.6MB/s eta 0:00:01\r\u001b[K     |██▏                             | 71kB 6.1MB/s eta 0:00:01\r\u001b[K     |██▌                             | 81kB 6.5MB/s eta 0:00:01\r\u001b[K     |██▉                             | 92kB 6.9MB/s eta 0:00:01\r\u001b[K     |███                             | 102kB 6.9MB/s eta 0:00:01\r\u001b[K     |███▍                            | 112kB 6.9MB/s eta 0:00:01\r\u001b[K     |███▊                            | 122kB 6.9MB/s eta 0:00:01\r\u001b[K     |████                            | 133kB 6.9MB/s eta 0:00:01\r\u001b[K     |████▎                           | 143kB 6.9MB/s eta 0:00:01\r\u001b[K     |████▋                           | 153kB 6.9MB/s eta 0:00:01\r\u001b[K     |█████                           | 163kB 6.9MB/s eta 0:00:01\r\u001b[K     |█████▎                          | 174kB 6.9MB/s eta 0:00:01\r\u001b[K     |█████▋                          | 184kB 6.9MB/s eta 0:00:01\r\u001b[K     |█████▉                          | 194kB 6.9MB/s eta 0:00:01\r\u001b[K     |██████▏                         | 204kB 6.9MB/s eta 0:00:01\r\u001b[K     |██████▌                         | 215kB 6.9MB/s eta 0:00:01\r\u001b[K     |██████▉                         | 225kB 6.9MB/s eta 0:00:01\r\u001b[K     |███████                         | 235kB 6.9MB/s eta 0:00:01\r\u001b[K     |███████▍                        | 245kB 6.9MB/s eta 0:00:01\r\u001b[K     |███████▊                        | 256kB 6.9MB/s eta 0:00:01\r\u001b[K     |████████                        | 266kB 6.9MB/s eta 0:00:01\r\u001b[K     |████████▍                       | 276kB 6.9MB/s eta 0:00:01\r\u001b[K     |████████▋                       | 286kB 6.9MB/s eta 0:00:01\r\u001b[K     |█████████                       | 296kB 6.9MB/s eta 0:00:01\r\u001b[K     |█████████▎                      | 307kB 6.9MB/s eta 0:00:01\r\u001b[K     |█████████▋                      | 317kB 6.9MB/s eta 0:00:01\r\u001b[K     |█████████▉                      | 327kB 6.9MB/s eta 0:00:01\r\u001b[K     |██████████▏                     | 337kB 6.9MB/s eta 0:00:01\r\u001b[K     |██████████▌                     | 348kB 6.9MB/s eta 0:00:01\r\u001b[K     |██████████▉                     | 358kB 6.9MB/s eta 0:00:01\r\u001b[K     |███████████▏                    | 368kB 6.9MB/s eta 0:00:01\r\u001b[K     |███████████▍                    | 378kB 6.9MB/s eta 0:00:01\r\u001b[K     |███████████▊                    | 389kB 6.9MB/s eta 0:00:01\r\u001b[K     |████████████                    | 399kB 6.9MB/s eta 0:00:01\r\u001b[K     |████████████▍                   | 409kB 6.9MB/s eta 0:00:01\r\u001b[K     |████████████▋                   | 419kB 6.9MB/s eta 0:00:01\r\u001b[K     |█████████████                   | 430kB 6.9MB/s eta 0:00:01\r\u001b[K     |█████████████▎                  | 440kB 6.9MB/s eta 0:00:01\r\u001b[K     |█████████████▋                  | 450kB 6.9MB/s eta 0:00:01\r\u001b[K     |██████████████                  | 460kB 6.9MB/s eta 0:00:01\r\u001b[K     |██████████████▏                 | 471kB 6.9MB/s eta 0:00:01\r\u001b[K     |██████████████▌                 | 481kB 6.9MB/s eta 0:00:01\r\u001b[K     |██████████████▉                 | 491kB 6.9MB/s eta 0:00:01\r\u001b[K     |███████████████▏                | 501kB 6.9MB/s eta 0:00:01\r\u001b[K     |███████████████▍                | 512kB 6.9MB/s eta 0:00:01\r\u001b[K     |███████████████▊                | 522kB 6.9MB/s eta 0:00:01\r\u001b[K     |████████████████                | 532kB 6.9MB/s eta 0:00:01\r\u001b[K     |████████████████▍               | 542kB 6.9MB/s eta 0:00:01\r\u001b[K     |████████████████▊               | 552kB 6.9MB/s eta 0:00:01\r\u001b[K     |█████████████████               | 563kB 6.9MB/s eta 0:00:01\r\u001b[K     |█████████████████▎              | 573kB 6.9MB/s eta 0:00:01\r\u001b[K     |█████████████████▋              | 583kB 6.9MB/s eta 0:00:01\r\u001b[K     |██████████████████              | 593kB 6.9MB/s eta 0:00:01\r\u001b[K     |██████████████████▏             | 604kB 6.9MB/s eta 0:00:01\r\u001b[K     |██████████████████▌             | 614kB 6.9MB/s eta 0:00:01\r\u001b[K     |██████████████████▉             | 624kB 6.9MB/s eta 0:00:01\r\u001b[K     |███████████████████▏            | 634kB 6.9MB/s eta 0:00:01\r\u001b[K     |███████████████████▌            | 645kB 6.9MB/s eta 0:00:01\r\u001b[K     |███████████████████▊            | 655kB 6.9MB/s eta 0:00:01\r\u001b[K     |████████████████████            | 665kB 6.9MB/s eta 0:00:01\r\u001b[K     |████████████████████▍           | 675kB 6.9MB/s eta 0:00:01\r\u001b[K     |████████████████████▊           | 686kB 6.9MB/s eta 0:00:01\r\u001b[K     |█████████████████████           | 696kB 6.9MB/s eta 0:00:01\r\u001b[K     |█████████████████████▎          | 706kB 6.9MB/s eta 0:00:01\r\u001b[K     |█████████████████████▋          | 716kB 6.9MB/s eta 0:00:01\r\u001b[K     |██████████████████████          | 727kB 6.9MB/s eta 0:00:01\r\u001b[K     |██████████████████████▎         | 737kB 6.9MB/s eta 0:00:01\r\u001b[K     |██████████████████████▌         | 747kB 6.9MB/s eta 0:00:01\r\u001b[K     |██████████████████████▉         | 757kB 6.9MB/s eta 0:00:01\r\u001b[K     |███████████████████████▏        | 768kB 6.9MB/s eta 0:00:01\r\u001b[K     |███████████████████████▌        | 778kB 6.9MB/s eta 0:00:01\r\u001b[K     |███████████████████████▊        | 788kB 6.9MB/s eta 0:00:01\r\u001b[K     |████████████████████████        | 798kB 6.9MB/s eta 0:00:01\r\u001b[K     |████████████████████████▍       | 808kB 6.9MB/s eta 0:00:01\r\u001b[K     |████████████████████████▊       | 819kB 6.9MB/s eta 0:00:01\r\u001b[K     |█████████████████████████       | 829kB 6.9MB/s eta 0:00:01\r\u001b[K     |█████████████████████████▎      | 839kB 6.9MB/s eta 0:00:01\r\u001b[K     |█████████████████████████▋      | 849kB 6.9MB/s eta 0:00:01\r\u001b[K     |██████████████████████████      | 860kB 6.9MB/s eta 0:00:01\r\u001b[K     |██████████████████████████▎     | 870kB 6.9MB/s eta 0:00:01\r\u001b[K     |██████████████████████████▌     | 880kB 6.9MB/s eta 0:00:01\r\u001b[K     |██████████████████████████▉     | 890kB 6.9MB/s eta 0:00:01\r\u001b[K     |███████████████████████████▏    | 901kB 6.9MB/s eta 0:00:01\r\u001b[K     |███████████████████████████▌    | 911kB 6.9MB/s eta 0:00:01\r\u001b[K     |███████████████████████████▉    | 921kB 6.9MB/s eta 0:00:01\r\u001b[K     |████████████████████████████    | 931kB 6.9MB/s eta 0:00:01\r\u001b[K     |████████████████████████████▍   | 942kB 6.9MB/s eta 0:00:01\r\u001b[K     |████████████████████████████▊   | 952kB 6.9MB/s eta 0:00:01\r\u001b[K     |█████████████████████████████   | 962kB 6.9MB/s eta 0:00:01\r\u001b[K     |█████████████████████████████▎  | 972kB 6.9MB/s eta 0:00:01\r\u001b[K     |█████████████████████████████▋  | 983kB 6.9MB/s eta 0:00:01\r\u001b[K     |██████████████████████████████  | 993kB 6.9MB/s eta 0:00:01\r\u001b[K     |██████████████████████████████▎ | 1.0MB 6.9MB/s eta 0:00:01\r\u001b[K     |██████████████████████████████▋ | 1.0MB 6.9MB/s eta 0:00:01\r\u001b[K     |██████████████████████████████▉ | 1.0MB 6.9MB/s eta 0:00:01\r\u001b[K     |███████████████████████████████▏| 1.0MB 6.9MB/s eta 0:00:01\r\u001b[K     |███████████████████████████████▌| 1.0MB 6.9MB/s eta 0:00:01\r\u001b[K     |███████████████████████████████▉| 1.1MB 6.9MB/s eta 0:00:01\r\u001b[K     |████████████████████████████████| 1.1MB 6.9MB/s \n",
            "\u001b[?25hRequirement already satisfied: packaging in /usr/local/lib/python3.6/dist-packages (from transformers) (20.4)\n",
            "Requirement already satisfied: tqdm>=4.27 in /usr/local/lib/python3.6/dist-packages (from transformers) (4.41.1)\n",
            "Requirement already satisfied: filelock in /usr/local/lib/python3.6/dist-packages (from transformers) (3.0.12)\n",
            "Requirement already satisfied: numpy in /usr/local/lib/python3.6/dist-packages (from transformers) (1.18.5)\n",
            "Requirement already satisfied: regex!=2019.12.17 in /usr/local/lib/python3.6/dist-packages (from transformers) (2019.12.20)\n",
            "Requirement already satisfied: requests in /usr/local/lib/python3.6/dist-packages (from transformers) (2.23.0)\n",
            "Collecting sentencepiece!=0.1.92\n",
            "\u001b[?25l  Downloading https://files.pythonhosted.org/packages/d4/a4/d0a884c4300004a78cca907a6ff9a5e9fe4f090f5d95ab341c53d28cbc58/sentencepiece-0.1.91-cp36-cp36m-manylinux1_x86_64.whl (1.1MB)\n",
            "\u001b[K     |████████████████████████████████| 1.1MB 40.1MB/s \n",
            "\u001b[?25hCollecting sacremoses\n",
            "\u001b[?25l  Downloading https://files.pythonhosted.org/packages/7d/34/09d19aff26edcc8eb2a01bed8e98f13a1537005d31e95233fd48216eed10/sacremoses-0.0.43.tar.gz (883kB)\n",
            "\u001b[K     |████████████████████████████████| 890kB 40.6MB/s \n",
            "\u001b[?25hCollecting tokenizers==0.8.1.rc2\n",
            "\u001b[?25l  Downloading https://files.pythonhosted.org/packages/80/83/8b9fccb9e48eeb575ee19179e2bdde0ee9a1904f97de5f02d19016b8804f/tokenizers-0.8.1rc2-cp36-cp36m-manylinux1_x86_64.whl (3.0MB)\n",
            "\u001b[K     |████████████████████████████████| 3.0MB 41.5MB/s \n",
            "\u001b[?25hRequirement already satisfied: dataclasses; python_version < \"3.7\" in /usr/local/lib/python3.6/dist-packages (from transformers) (0.7)\n",
            "Requirement already satisfied: pyparsing>=2.0.2 in /usr/local/lib/python3.6/dist-packages (from packaging->transformers) (2.4.7)\n",
            "Requirement already satisfied: six in /usr/local/lib/python3.6/dist-packages (from packaging->transformers) (1.15.0)\n",
            "Requirement already satisfied: chardet<4,>=3.0.2 in /usr/local/lib/python3.6/dist-packages (from requests->transformers) (3.0.4)\n",
            "Requirement already satisfied: idna<3,>=2.5 in /usr/local/lib/python3.6/dist-packages (from requests->transformers) (2.10)\n",
            "Requirement already satisfied: certifi>=2017.4.17 in /usr/local/lib/python3.6/dist-packages (from requests->transformers) (2020.6.20)\n",
            "Requirement already satisfied: urllib3!=1.25.0,!=1.25.1,<1.26,>=1.21.1 in /usr/local/lib/python3.6/dist-packages (from requests->transformers) (1.24.3)\n",
            "Requirement already satisfied: click in /usr/local/lib/python3.6/dist-packages (from sacremoses->transformers) (7.1.2)\n",
            "Requirement already satisfied: joblib in /usr/local/lib/python3.6/dist-packages (from sacremoses->transformers) (0.16.0)\n",
            "Building wheels for collected packages: sacremoses\n",
            "  Building wheel for sacremoses (setup.py) ... \u001b[?25l\u001b[?25hdone\n",
            "  Created wheel for sacremoses: filename=sacremoses-0.0.43-cp36-none-any.whl size=893257 sha256=4ff778a4394b8b2eb0c817b61b877c2ff789d51ea3cbb4f735fc7eab00a336da\n",
            "  Stored in directory: /root/.cache/pip/wheels/29/3c/fd/7ce5c3f0666dab31a50123635e6fb5e19ceb42ce38d4e58f45\n",
            "Successfully built sacremoses\n",
            "Installing collected packages: sentencepiece, sacremoses, tokenizers, transformers\n",
            "Successfully installed sacremoses-0.0.43 sentencepiece-0.1.91 tokenizers-0.8.1rc2 transformers-3.3.1\n"
          ],
          "name": "stdout"
        }
      ]
    },
    {
      "cell_type": "code",
      "metadata": {
        "id": "WT0Gz06Y0rM1"
      },
      "source": [
        "import numpy as np"
      ],
      "execution_count": null,
      "outputs": []
    },
    {
      "cell_type": "markdown",
      "metadata": {
        "id": "x31YWA-3vWtu"
      },
      "source": [
        "데이터 불러오기"
      ]
    },
    {
      "cell_type": "code",
      "metadata": {
        "id": "Su1tL_vgvtVK",
        "outputId": "ee900833-9555-401a-ad5f-999ecc37d56a",
        "colab": {
          "base_uri": "https://localhost:8080/",
          "height": 217
        }
      },
      "source": [
        "!wget http://noisy-text.github.io/2017/files/wnut17train.conll\n"
      ],
      "execution_count": null,
      "outputs": [
        {
          "output_type": "stream",
          "text": [
            "--2020-10-15 03:47:49--  http://noisy-text.github.io/2017/files/wnut17train.conll\n",
            "Resolving noisy-text.github.io (noisy-text.github.io)... 185.199.108.153, 185.199.109.153, 185.199.110.153, ...\n",
            "Connecting to noisy-text.github.io (noisy-text.github.io)|185.199.108.153|:80... connected.\n",
            "HTTP request sent, awaiting response... 200 OK\n",
            "Length: 493781 (482K) [application/octet-stream]\n",
            "Saving to: ‘wnut17train.conll’\n",
            "\n",
            "wnut17train.conll   100%[===================>] 482.21K  --.-KB/s    in 0.03s   \n",
            "\n",
            "2020-10-15 03:47:50 (18.7 MB/s) - ‘wnut17train.conll’ saved [493781/493781]\n",
            "\n"
          ],
          "name": "stdout"
        }
      ]
    },
    {
      "cell_type": "code",
      "metadata": {
        "id": "OxQCLIzdv74f"
      },
      "source": [
        "from pathlib import Path\n",
        "import re\n",
        "\n",
        "def read_wnut(file_path):\n",
        "    file_path = Path(file_path)\n",
        "\n",
        "    raw_text = file_path.read_text().strip()\n",
        "    raw_docs = re.split(r'\\n\\t?\\n', raw_text)\n",
        "    token_docs = []\n",
        "    tag_docs = []\n",
        "    for doc in raw_docs:\n",
        "        tokens = []\n",
        "        tags = []\n",
        "        for line in doc.split('\\n'):\n",
        "            token, tag = line.split('\\t')\n",
        "            tokens.append(token)\n",
        "            tags.append(tag)\n",
        "        token_docs.append(tokens)\n",
        "        tag_docs.append(tags)\n",
        "\n",
        "    return token_docs, tag_docs\n",
        "\n",
        "texts, tags = read_wnut('wnut17train.conll')"
      ],
      "execution_count": null,
      "outputs": []
    },
    {
      "cell_type": "code",
      "metadata": {
        "id": "yWc22cgpwd-t",
        "outputId": "e515b844-16a1-4cdb-ec75-6294eb421134",
        "colab": {
          "base_uri": "https://localhost:8080/",
          "height": 54
        }
      },
      "source": [
        "#tag와 단어가 매칭된 모습\n",
        "print(texts[0][0:10], tags[0][0:10], sep='\\n')"
      ],
      "execution_count": null,
      "outputs": [
        {
          "output_type": "stream",
          "text": [
            "['@paulwalk', 'It', \"'s\", 'the', 'view', 'from', 'where', 'I', \"'m\", 'living']\n",
            "['O', 'O', 'O', 'O', 'O', 'O', 'O', 'O', 'O', 'O']\n"
          ],
          "name": "stdout"
        }
      ]
    },
    {
      "cell_type": "markdown",
      "metadata": {
        "id": "QElhy1-QxBXR"
      },
      "source": [
        "데이터 전처리"
      ]
    },
    {
      "cell_type": "code",
      "metadata": {
        "id": "1_v65CU5wezy"
      },
      "source": [
        "#train, validation split\n",
        "from sklearn.model_selection import train_test_split\n",
        "train_texts, val_texts, train_tags, val_tags = train_test_split(texts, tags, test_size=.2)"
      ],
      "execution_count": null,
      "outputs": []
    },
    {
      "cell_type": "code",
      "metadata": {
        "id": "S2LQwv3PwviS"
      },
      "source": [
        "unique_tags = set(tag for doc in tags for tag in doc)\n",
        "tag2id = {tag: id for id, tag in enumerate(unique_tags)}\n",
        "id2tag = {id: tag for tag, id in tag2id.items()}"
      ],
      "execution_count": null,
      "outputs": []
    },
    {
      "cell_type": "code",
      "metadata": {
        "id": "r-w2nXhcw1Ln",
        "outputId": "a870d759-c894-4576-8ed3-488fe4b621a5",
        "colab": {
          "base_uri": "https://localhost:8080/",
          "height": 254
        }
      },
      "source": [
        "unique_tags"
      ],
      "execution_count": null,
      "outputs": [
        {
          "output_type": "execute_result",
          "data": {
            "text/plain": [
              "{'B-corporation',\n",
              " 'B-creative-work',\n",
              " 'B-group',\n",
              " 'B-location',\n",
              " 'B-person',\n",
              " 'B-product',\n",
              " 'I-corporation',\n",
              " 'I-creative-work',\n",
              " 'I-group',\n",
              " 'I-location',\n",
              " 'I-person',\n",
              " 'I-product',\n",
              " 'O'}"
            ]
          },
          "metadata": {
            "tags": []
          },
          "execution_count": 8
        }
      ]
    },
    {
      "cell_type": "code",
      "metadata": {
        "id": "uYoIz9ZEw9kS",
        "outputId": "df77735d-70fb-4a4d-80af-cc65de0311ab",
        "colab": {
          "base_uri": "https://localhost:8080/",
          "height": 67,
          "referenced_widgets": [
            "bf93b2c720534f36a9d9d1b93b5758d6",
            "975805526a7b4772a81bac83c5fee9ff",
            "c9d7fd1f68eb4f92ba42fcc6236d11bb",
            "cbf1d56ed8314cca904888e70c823aa7",
            "22ad768865714d59ae38204826e52bc9",
            "8c276d7d9880476e9e5d6484a6ccc7ef",
            "24033bdd7cb24301a8e11e5141f47e37",
            "a943496a2b97416fba10679ed5770373"
          ]
        }
      },
      "source": [
        "#Distilbert를 통한 encoding\n",
        "from transformers import DistilBertTokenizerFast\n",
        "tokenizer = DistilBertTokenizerFast.from_pretrained('distilbert-base-cased')\n",
        "train_encodings = tokenizer(train_texts, is_split_into_words=True, return_offsets_mapping=True, padding=True, truncation=True)\n",
        "val_encodings = tokenizer(val_texts, is_split_into_words=True, return_offsets_mapping=True, padding=True, truncation=True)"
      ],
      "execution_count": null,
      "outputs": [
        {
          "output_type": "display_data",
          "data": {
            "application/vnd.jupyter.widget-view+json": {
              "model_id": "bf93b2c720534f36a9d9d1b93b5758d6",
              "version_minor": 0,
              "version_major": 2
            },
            "text/plain": [
              "HBox(children=(FloatProgress(value=0.0, description='Downloading', max=213450.0, style=ProgressStyle(descripti…"
            ]
          },
          "metadata": {
            "tags": []
          }
        },
        {
          "output_type": "stream",
          "text": [
            "\n"
          ],
          "name": "stdout"
        }
      ]
    },
    {
      "cell_type": "markdown",
      "metadata": {
        "id": "cJdFgtAuzPS9"
      },
      "source": [
        "* 대부분의 BERT 모델에선 WordPiece tokenizer를 통해서 토큰화 시킴\n",
        "\n",
        "* 그러나 NER에선 하나의 토큰을 여러 토큰으로 쪼개면 Tag의 수와 불일치하게 됨\n",
        "\n",
        "* 이를 방지하기 위해 여기서는 split token의 first subtoken에 대해서만 학습\n",
        "\n",
        " 예시\n",
        "\n",
        "* '@HuggingFace' -> ['@', 'hugging', 'face']\n",
        "\n",
        "* 만약 '@HuggingFace'의 index가 3이라면 위 리스트를 [3, -100, -100]으로 변경(-100은 의미 없는 숫자)"
      ]
    },
    {
      "cell_type": "code",
      "metadata": {
        "id": "EdippGTPyATG"
      },
      "source": [
        "def encode_tags(tags, encodings):\n",
        "    labels = [[tag2id[tag] for tag in doc] for doc in tags]\n",
        "    encoded_labels = []\n",
        "    for doc_labels, doc_offset in zip(labels, encodings.offset_mapping):\n",
        "        # create an empty array of -100\n",
        "        doc_enc_labels = np.ones(len(doc_offset),dtype=int) * -100\n",
        "        arr_offset = np.array(doc_offset)\n",
        "\n",
        "        # set labels whose first offset position is 0 and the second is not 0\n",
        "        doc_enc_labels[(arr_offset[:,0] == 0) & (arr_offset[:,1] != 0)] = doc_labels\n",
        "        encoded_labels.append(doc_enc_labels.tolist())\n",
        "\n",
        "    return encoded_labels\n",
        "\n",
        "train_labels = encode_tags(train_tags, train_encodings)\n",
        "val_labels = encode_tags(val_tags, val_encodings)"
      ],
      "execution_count": null,
      "outputs": []
    },
    {
      "cell_type": "code",
      "metadata": {
        "id": "hdxZqC2a1J4P"
      },
      "source": [
        "#Dataset 생성\n",
        "\n",
        "class WNUTDataset(torch.utils.data.Dataset):\n",
        "    def __init__(self, encodings, labels):\n",
        "        self.encodings = encodings\n",
        "        self.labels = labels\n",
        "\n",
        "    def __getitem__(self, idx):\n",
        "        item = {key: torch.tensor(val[idx]) for key, val in self.encodings.items()}\n",
        "        item['labels'] = torch.tensor(self.labels[idx])\n",
        "        return item\n",
        "\n",
        "    def __len__(self):\n",
        "        return len(self.labels)\n",
        "\n",
        "train_encodings.pop(\"offset_mapping\") #모델 생성에 쓸모 없는 부분(이미 위의 encode_tags에 활용)\n",
        "val_encodings.pop(\"offset_mapping\")\n",
        "train_dataset = WNUTDataset(train_encodings, train_labels)\n",
        "val_dataset = WNUTDataset(val_encodings, val_labels)"
      ],
      "execution_count": null,
      "outputs": []
    },
    {
      "cell_type": "markdown",
      "metadata": {
        "id": "D_OI_-oE4RuX"
      },
      "source": [
        "Pre-trained 모델 불러오기"
      ]
    },
    {
      "cell_type": "code",
      "metadata": {
        "id": "iG3ImPa714-W",
        "outputId": "647898e2-583c-4ed7-f407-5d6cab220f61",
        "colab": {
          "base_uri": "https://localhost:8080/",
          "height": 228,
          "referenced_widgets": [
            "62ba46dafc2b4f7997d57df577a57e98",
            "2677d18513464608888d87108cda00f7",
            "9d6ffcf3e4c8427abeef4ff9794072df",
            "f46197c3e009418683a97062441d1b52",
            "c9b0c618fd0a459d9b1edf4a173b7ba2",
            "c9d2f19cc4a14f908dc680b69896f1da",
            "bbef21f9fda34ad38821e720e35eeb24",
            "74f29a6c8b4e4a5a86086c021c652471",
            "9a293b06e1d74fa6b1cdc468cd6c8321",
            "5d29d278951e4c479d527ade49fa5786",
            "531965b9bb844f18a051be0c23060a98",
            "6e4f97ad314e429690e210d6104ead8e",
            "c3aa3756f43f4d44894e4080232ccfac",
            "09304720b6d14608ac1b641b24b4fa8a",
            "004ae25466ec4a37b9d24d29e998a563",
            "5db54ee8ac0149398ce7aeee1ea536ac"
          ]
        }
      },
      "source": [
        "from transformers import DistilBertForTokenClassification\n",
        "model = DistilBertForTokenClassification.from_pretrained('distilbert-base-cased', num_labels=len(unique_tags))"
      ],
      "execution_count": null,
      "outputs": [
        {
          "output_type": "display_data",
          "data": {
            "application/vnd.jupyter.widget-view+json": {
              "model_id": "62ba46dafc2b4f7997d57df577a57e98",
              "version_minor": 0,
              "version_major": 2
            },
            "text/plain": [
              "HBox(children=(FloatProgress(value=0.0, description='Downloading', max=411.0, style=ProgressStyle(description_…"
            ]
          },
          "metadata": {
            "tags": []
          }
        },
        {
          "output_type": "stream",
          "text": [
            "\n"
          ],
          "name": "stdout"
        },
        {
          "output_type": "display_data",
          "data": {
            "application/vnd.jupyter.widget-view+json": {
              "model_id": "9a293b06e1d74fa6b1cdc468cd6c8321",
              "version_minor": 0,
              "version_major": 2
            },
            "text/plain": [
              "HBox(children=(FloatProgress(value=0.0, description='Downloading', max=263273408.0, style=ProgressStyle(descri…"
            ]
          },
          "metadata": {
            "tags": []
          }
        },
        {
          "output_type": "stream",
          "text": [
            "\n"
          ],
          "name": "stdout"
        },
        {
          "output_type": "stream",
          "text": [
            "Some weights of the model checkpoint at distilbert-base-cased were not used when initializing DistilBertForTokenClassification: ['vocab_transform.weight', 'vocab_transform.bias', 'vocab_layer_norm.weight', 'vocab_layer_norm.bias', 'vocab_projector.weight', 'vocab_projector.bias']\n",
            "- This IS expected if you are initializing DistilBertForTokenClassification from the checkpoint of a model trained on another task or with another architecture (e.g. initializing a BertForSequenceClassification model from a BertForPretraining model).\n",
            "- This IS NOT expected if you are initializing DistilBertForTokenClassification from the checkpoint of a model that you expect to be exactly identical (initializing a BertForSequenceClassification model from a BertForSequenceClassification model).\n",
            "Some weights of DistilBertForTokenClassification were not initialized from the model checkpoint at distilbert-base-cased and are newly initialized: ['classifier.weight', 'classifier.bias']\n",
            "You should probably TRAIN this model on a down-stream task to be able to use it for predictions and inference.\n"
          ],
          "name": "stderr"
        }
      ]
    },
    {
      "cell_type": "markdown",
      "metadata": {
        "id": "sgRzNm1r4Qkq"
      },
      "source": [
        "Fine tuning"
      ]
    },
    {
      "cell_type": "code",
      "metadata": {
        "id": "ofW0pXoW4M0t"
      },
      "source": [
        "from torch.utils.data import DataLoader\n",
        "from transformers import AdamW\n",
        "\n",
        "device = torch.device('cuda') if torch.cuda.is_available() else torch.device('cpu')\n",
        "\n",
        "#model = DistilBertForSequenceClassification.from_pretrained('distilbert-base-uncased', return_dict = True)\n",
        "model.to(device)\n",
        "train_loader = DataLoader(train_dataset, batch_size=16, shuffle=True)"
      ],
      "execution_count": null,
      "outputs": []
    },
    {
      "cell_type": "code",
      "metadata": {
        "id": "LofvILIU96j8"
      },
      "source": [
        "optim = AdamW(model.parameters(), lr=5e-5)\n",
        "model.train()\n",
        "\n",
        "for epoch in range(3):\n",
        "    for batch in train_loader:\n",
        "        optim.zero_grad()\n",
        "        \n",
        "        input_ids = batch['input_ids'].to(device)\n",
        "        attention_mask = batch['attention_mask'].to(device)\n",
        "        labels = batch['labels'].to(device)\n",
        "        #labels = labels.view(16, -1) \n",
        "        outputs = model(input_ids, attention_mask=attention_mask, labels= labels)\n",
        "        loss, logits = outputs\n",
        "\n",
        "        \n",
        "        loss.backward()\n",
        "        optim.step()\n"
      ],
      "execution_count": null,
      "outputs": []
    },
    {
      "cell_type": "markdown",
      "metadata": {
        "id": "TalFboBt6i0Y"
      },
      "source": [
        "Evaluation"
      ]
    },
    {
      "cell_type": "code",
      "metadata": {
        "id": "76pIPCmh6jy6"
      },
      "source": [
        "eval_loader = DataLoader(val_dataset, batch_size=16, shuffle= False)"
      ],
      "execution_count": null,
      "outputs": []
    }
  ]
}